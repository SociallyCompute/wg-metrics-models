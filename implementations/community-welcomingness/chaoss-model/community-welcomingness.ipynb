{
 "cells": [
  {
   "cell_type": "markdown",
   "id": "9d58932d",
   "metadata": {},
   "source": [
    "# Welcoming Metrics Model \n",
    "*Design by Elizabeth Barron*\n"
   ]
  },
  {
   "cell_type": "markdown",
   "id": "601c0826",
   "metadata": {},
   "source": [
    "# Activity:\n",
    "- Issue Age: https://chaoss.community/metric-issue-age/\n",
    "- Issue Response Time: https://chaoss.community/metric-issue-response-time/\n",
    "- Time to First Response https://chaoss.community/metric-time-to-first-response/ https://chaoss.community/metric-issue-resolution-duration\n",
    "\n",
    "# Community Culture\n",
    "- Code of Conduct: https://chaoss.community/metric-code-of-conduct/\n",
    "- Inclusive Leadership: https://chaoss.community/metric-inclusive-leadership/ \n",
    "\n",
    "# Licensing:\n",
    "- License Coverage https://chaoss.community/metric-license-coverage/\n",
    "- License Declared https://chaoss.community/metric-license-declared/ \n",
    "\n",
    "# Stability:\n",
    "- CII Best Practices Badge https://chaoss.community/metric-cii-best-practices-badge/\n",
    "- Test Coverage: https://chaoss.community/metric-test-coverage/\n",
    "- Bus Factor: https://chaoss.community/metric-bus-factor/\n",
    "- Committers: https://chaoss.community/metric-committers/\n",
    "- Elephant Factor: https://chaoss.community/metric-elephant-factor/\n",
    "\n",
    "# Code\n",
    "- New contributors\n",
    "- Change request acceptance rates"
   ]
  },
  {
   "cell_type": "code",
   "execution_count": 4,
   "id": "afcfe6a8",
   "metadata": {
    "colab": {
     "base_uri": "https://localhost:8080/"
    },
    "id": "78181537-387b-4560-96aa-03b21edd81e6",
    "outputId": "9fd18ecd-8fcc-4f2b-9391-5578d863cbcb",
    "tags": []
   },
   "outputs": [],
   "source": [
    "import requests\n",
    "import json\n",
    "from IPython.display import Image, display\n",
    "from IPython.display import HTML as html_print\n",
    "import requests\n",
    "import pandas as pd\n",
    "from datetime import datetime, timedelta\n",
    "from matplotlib import pyplot as plt\n",
    "from matplotlib import dates as mpl_dates\n",
    "from matplotlib.pyplot import figure\n",
    "import urllib3\n",
    "\n",
    "import pandas as pd\n",
    "from datetime import datetime, timedelta\n",
    "from matplotlib import pyplot as plt\n",
    "from matplotlib import dates as mpl_dates\n",
    "from requests import request\n",
    "\n",
    "url = \"http://augur.chaoss.io/api/unstable/repos/25440/issues-closed-resolution-duration\"\n",
    "#response = urllib3.request.urlopen(url)\n",
    "\n",
    "#r = requests.get('http://augur.chaoss.io/api/unstable/repos/25440/issues-closed-resolution-duration')\n",
    "r = requests.get('http://augur.chaoss.io/api/unstable/repos/25440/issues-closed-resolution-duration').json()\n",
    "\n",
    "with open('data/issues-closed-resolution-duration.json', 'w') as outfile:\n",
    "    json.dump(r, outfile)\n"
   ]
  },
  {
   "cell_type": "markdown",
   "id": "aaad51b6",
   "metadata": {},
   "source": [
    "## Activity"
   ]
  },
  {
   "cell_type": "code",
   "execution_count": 5,
   "id": "64fe792d",
   "metadata": {
    "colab": {
     "base_uri": "https://localhost:8080/"
    },
    "id": "f2ff2b24-18c4-4ccf-b7c8-0fb461d5f993",
    "outputId": "c6019ec8-e20e-401f-e653-a4d4d4bd99d4",
    "tags": []
   },
   "outputs": [],
   "source": [
    "import requests\n",
    "#r = requests.get('http://augur.chaoss.io/api/unstable/repos/25440/issue-throughput')\n",
    "\n",
    "r = requests.get('http://augur.chaoss.io/api/unstable/repos/25440/issue-throughput').json()\n",
    "\n",
    "with open('data/issues-throughput.json', 'w') as outfile:\n",
    "    json.dump(r, outfile)\n",
    "\n",
    "#r.json()\n"
   ]
  },
  {
   "cell_type": "code",
   "execution_count": 6,
   "id": "3eed1202",
   "metadata": {
    "colab": {
     "base_uri": "https://localhost:8080/"
    },
    "id": "46144df9-ed1d-4c4c-96b7-c940e690ebbb",
    "outputId": "5d5e04da-995c-4541-e34d-1a7cea6deefc",
    "tags": []
   },
   "outputs": [
    {
     "ename": "KeyError",
     "evalue": "'diffdate'",
     "output_type": "error",
     "traceback": [
      "\u001b[0;31m---------------------------------------------------------------------------\u001b[0m",
      "\u001b[0;31mKeyError\u001b[0m                                  Traceback (most recent call last)",
      "\u001b[0;32m<ipython-input-6-5bcd53fda891>\u001b[0m in \u001b[0;36m<module>\u001b[0;34m\u001b[0m\n\u001b[1;32m     25\u001b[0m     })\n\u001b[1;32m     26\u001b[0m \u001b[0mdf\u001b[0m\u001b[0;34m=\u001b[0m\u001b[0mpd\u001b[0m\u001b[0;34m.\u001b[0m\u001b[0mDataFrame\u001b[0m\u001b[0;34m(\u001b[0m\u001b[0mdata\u001b[0m\u001b[0;34m)\u001b[0m\u001b[0;34m\u001b[0m\u001b[0;34m\u001b[0m\u001b[0m\n\u001b[0;32m---> 27\u001b[0;31m \u001b[0mdf\u001b[0m\u001b[0;34m.\u001b[0m\u001b[0msort_values\u001b[0m\u001b[0;34m(\u001b[0m\u001b[0mby\u001b[0m\u001b[0;34m=\u001b[0m\u001b[0;34m[\u001b[0m\u001b[0;34m'diffdate'\u001b[0m\u001b[0;34m]\u001b[0m\u001b[0;34m,\u001b[0m \u001b[0minplace\u001b[0m\u001b[0;34m=\u001b[0m\u001b[0;32mTrue\u001b[0m\u001b[0;34m,\u001b[0m \u001b[0mascending\u001b[0m\u001b[0;34m=\u001b[0m\u001b[0;32mFalse\u001b[0m\u001b[0;34m)\u001b[0m\u001b[0;34m\u001b[0m\u001b[0;34m\u001b[0m\u001b[0m\n\u001b[0m\u001b[1;32m     28\u001b[0m \u001b[0;31m#print(df)\u001b[0m\u001b[0;34m\u001b[0m\u001b[0;34m\u001b[0m\u001b[0m\n\u001b[1;32m     29\u001b[0m \u001b[0;34m\u001b[0m\u001b[0m\n",
      "\u001b[0;32m~/github/virtualenvs/mms/lib/python3.9/site-packages/pandas/core/frame.py\u001b[0m in \u001b[0;36msort_values\u001b[0;34m(self, by, axis, ascending, inplace, kind, na_position, ignore_index, key)\u001b[0m\n\u001b[1;32m   5453\u001b[0m \u001b[0;34m\u001b[0m\u001b[0m\n\u001b[1;32m   5454\u001b[0m             \u001b[0mby\u001b[0m \u001b[0;34m=\u001b[0m \u001b[0mby\u001b[0m\u001b[0;34m[\u001b[0m\u001b[0;36m0\u001b[0m\u001b[0;34m]\u001b[0m\u001b[0;34m\u001b[0m\u001b[0;34m\u001b[0m\u001b[0m\n\u001b[0;32m-> 5455\u001b[0;31m             \u001b[0mk\u001b[0m \u001b[0;34m=\u001b[0m \u001b[0mself\u001b[0m\u001b[0;34m.\u001b[0m\u001b[0m_get_label_or_level_values\u001b[0m\u001b[0;34m(\u001b[0m\u001b[0mby\u001b[0m\u001b[0;34m,\u001b[0m \u001b[0maxis\u001b[0m\u001b[0;34m=\u001b[0m\u001b[0maxis\u001b[0m\u001b[0;34m)\u001b[0m\u001b[0;34m\u001b[0m\u001b[0;34m\u001b[0m\u001b[0m\n\u001b[0m\u001b[1;32m   5456\u001b[0m \u001b[0;34m\u001b[0m\u001b[0m\n\u001b[1;32m   5457\u001b[0m             \u001b[0;31m# need to rewrap column in Series to apply key function\u001b[0m\u001b[0;34m\u001b[0m\u001b[0;34m\u001b[0m\u001b[0m\n",
      "\u001b[0;32m~/github/virtualenvs/mms/lib/python3.9/site-packages/pandas/core/generic.py\u001b[0m in \u001b[0;36m_get_label_or_level_values\u001b[0;34m(self, key, axis)\u001b[0m\n\u001b[1;32m   1682\u001b[0m             \u001b[0mvalues\u001b[0m \u001b[0;34m=\u001b[0m \u001b[0mself\u001b[0m\u001b[0;34m.\u001b[0m\u001b[0maxes\u001b[0m\u001b[0;34m[\u001b[0m\u001b[0maxis\u001b[0m\u001b[0;34m]\u001b[0m\u001b[0;34m.\u001b[0m\u001b[0mget_level_values\u001b[0m\u001b[0;34m(\u001b[0m\u001b[0mkey\u001b[0m\u001b[0;34m)\u001b[0m\u001b[0;34m.\u001b[0m\u001b[0m_values\u001b[0m\u001b[0;34m\u001b[0m\u001b[0;34m\u001b[0m\u001b[0m\n\u001b[1;32m   1683\u001b[0m         \u001b[0;32melse\u001b[0m\u001b[0;34m:\u001b[0m\u001b[0;34m\u001b[0m\u001b[0;34m\u001b[0m\u001b[0m\n\u001b[0;32m-> 1684\u001b[0;31m             \u001b[0;32mraise\u001b[0m \u001b[0mKeyError\u001b[0m\u001b[0;34m(\u001b[0m\u001b[0mkey\u001b[0m\u001b[0;34m)\u001b[0m\u001b[0;34m\u001b[0m\u001b[0;34m\u001b[0m\u001b[0m\n\u001b[0m\u001b[1;32m   1685\u001b[0m \u001b[0;34m\u001b[0m\u001b[0m\n\u001b[1;32m   1686\u001b[0m         \u001b[0;31m# Check for duplicates\u001b[0m\u001b[0;34m\u001b[0m\u001b[0;34m\u001b[0m\u001b[0m\n",
      "\u001b[0;31mKeyError\u001b[0m: 'diffdate'"
     ]
    }
   ],
   "source": [
    "from requests import request\n",
    "import json\n",
    "from pandas.io.json import json_normalize\n",
    "import pandas as pd\n",
    "\n",
    "#r=request(url='http://augur.chaoss.io/api/unstable/repos/25440/issues-closed-resolution-duration', method='get')\n",
    "#e = r.json()\n",
    "#e\n",
    "\n",
    "e = open('data/issues-closed-resolution-duration.json')\n",
    "\n",
    "response = json.load(e)\n",
    "\n",
    "data=[]\n",
    "for response in e: \n",
    "  if ( response.get('diffdate')> 79.0 ):\n",
    "    data.append({\n",
    "        \"repo_id\": response.get('repo_id'),\n",
    "        \"repo_name\": response.get('repo_name'),\n",
    "        \"diffdate\": response.get('diffdate'),\n",
    "        \"gh_issue_number\": response.get('gh_issue_number'),\n",
    "        # \"closed_at\": response.get('closed_at'),\n",
    "        # \"created_at\": response.get('created_at'),\n",
    "        \n",
    "    })\n",
    "df=pd.DataFrame(data)\n",
    "df.sort_values(by=['diffdate'], inplace=True, ascending=False)\n",
    "#print(df)\n",
    "\n",
    "e.close()"
   ]
  },
  {
   "cell_type": "markdown",
   "id": "6ec1764e",
   "metadata": {},
   "source": [
    "### Issue Age\n"
   ]
  },
  {
   "cell_type": "code",
   "execution_count": null,
   "id": "a0de129a",
   "metadata": {
    "colab": {
     "base_uri": "https://localhost:8080/",
     "height": 518
    },
    "id": "CIwQs6Ya-bXL",
    "outputId": "e109aae7-19ab-46f5-dac5-9eb6e6f8e143",
    "tags": []
   },
   "outputs": [],
   "source": [
    "from requests import request\n",
    "import json\n",
    "from pandas.io.json import json_normalize\n",
    "import pandas as pd\n",
    "import matplotlib.pyplot as plt\n",
    "from datetime import datetime\n",
    "# import pandasql as ps\n",
    "from numpy import count_nonzero\n",
    "import seaborn as sns\n",
    "r=request(url='http://augur.chaoss.io/api/unstable/repos/25440/issues-open-age', method='get')\n",
    "e = r.json()\n",
    "df=pd.DataFrame(e)\n",
    "# print(df) \n",
    "# df['date'] = pd.DatetimeIndex(df['date']).month\n",
    "df['date'] = pd.to_datetime(df.date, format='%Y-%m-%d %H:%M:%S')\n",
    "df['date'] = df['date'].dt.strftime('%m-%Y')\n",
    "ax = sns.barplot(x=\"date\", y=\"open_date\", data=df)\n",
    "ax.set(xlabel=\"Month/year\", ylabel = \"days(total open issue) \", title = \"Issue age  \")\n",
    "sns.set(rc = {'figure.figsize':(15,15)})\n",
    "plt.ylim(10, 460)\n",
    "#mean issue repo "
   ]
  },
  {
   "cell_type": "markdown",
   "id": "50a171c9",
   "metadata": {},
   "source": [
    "### Issue Response Time"
   ]
  },
  {
   "cell_type": "code",
   "execution_count": null,
   "id": "e0b39645",
   "metadata": {
    "colab": {
     "base_uri": "https://localhost:8080/",
     "height": 1000
    },
    "id": "ls85Jkjr0Qb1",
    "outputId": "2dabe67b-a647-46b5-ec14-1bad6d128316",
    "tags": []
   },
   "outputs": [],
   "source": [
    "import psycopg2\n",
    "import pandas as pd \n",
    "import sqlalchemy as salc\n",
    "import numpy as np\n",
    "import seaborn as sns\n",
    "import matplotlib.pyplot as plt\n",
    "import warnings\n",
    "import datetime\n",
    "import json\n",
    "\n",
    "\n",
    "warnings.filterwarnings('ignore')\n",
    "\n",
    "with open(\"Config.json\") as config_file:\n",
    "    config = json.load(config_file)\n",
    "\n",
    "database_connection_string = 'postgresql+psycopg2://{}:{}@{}:{}/{}'.format(config['user'], config['password'], config['host'], config['port'], config['database'])\n",
    "\n",
    "dbschema='augur_data'\n",
    "engine = salc.create_engine(\n",
    "    database_connection_string,\n",
    "    connect_args={'options': '-csearch_path={}'.format(dbschema)})\n",
    "\n",
    "\n",
    "repolist = pd.DataFrame() \n",
    "repo_query = salc.sql.text(f\"\"\"select  f.created_at, avg(f.first_response) from \n",
    "(\n",
    "select e.repo_id, date_trunc('month',e.created_at) as created_at, e.first_response  as first_response \n",
    "from \n",
    "(\n",
    "SELECT\n",
    "\td.issue_id,\n",
    "\td.repo_id,\n",
    "\tgh_issue_number,\n",
    "\td.created_at as created_at,\n",
    "\tMIN ( first_response ) AS first_response\n",
    "FROM\n",
    "\t(\n",
    "\tSELECT\n",
    "\t\tissue_events.created_at as issue_created,\n",
    "\t\tissues.issue_id,\n",
    "\t\tissues.repo_id,\n",
    "\t\tissues.created_at as created_at,\n",
    "\t\tissues.gh_issue_number AS gh_issue_number,\n",
    "\t\tSUM ( issue_events.created_at - issues.created_at ) AS first_response \n",
    "\tFROM\n",
    "\t\tissue_events,\n",
    "\t\tissues\n",
    "\t\t--( SELECT MIN ( issue_events.created_at ) AS created FROM issue_events ) C \n",
    "\tWHERE\n",
    "\t\tissue_events.issue_id = issues.issue_id \n",
    "\t\tAND issues.closed_at IS NOT NULL \n",
    "\t\tAND issues.pull_request_id IS NULL \n",
    "\tGROUP BY\n",
    "\t\tissue_events.event_id,\n",
    "\t\tissues.issue_id,\n",
    "\t\tissues.created_at,\n",
    "\t\tissues.gh_issue_number \n",
    "\tORDER BY\n",
    "\t\tgh_issue_number,\n",
    "\t\tissues.created_at\n",
    "\t) d \n",
    "WHERE\n",
    "\trepo_id = 25440 \n",
    "GROUP BY\n",
    "\td.issue_id,\n",
    "\td.repo_id,\n",
    "\td.gh_issue_number, ---,\n",
    "\td.created_at \n",
    "ORDER BY\n",
    "\tfirst_response DESC\n",
    "\t) e \n",
    "\tgroup by \n",
    "\t e.repo_id, e.created_at, e.first_response \n",
    "\t ) f \n",
    " group by  f.created_at \n",
    "\n",
    "\"\"\")\n",
    "\n",
    "repolist = pd.read_sql(repo_query, con=engine);\n",
    "#display(repolist)\n",
    "repolist['avg'] = repolist['avg'].dt.days;\n",
    "fig, ax = plt.subplots(figsize = (15,6));  \n",
    "fig = sns.barplot(x = \"created_at\", y = \"avg\", data = repolist,ci = None, ax=ax);\n",
    "ax.set(xlabel=\"Month/year\", ylabel = \"days(total open issue) \", title = \"Issue Response Time\");\n",
    "x_dates = repolist['created_at'].dt.strftime('%Y-%m').sort_values().unique();\n",
    "ax.set_xticklabels(labels=x_dates, rotation=45, ha='right');\n"
   ]
  },
  {
   "cell_type": "markdown",
   "id": "1349bd67",
   "metadata": {},
   "source": [
    "### Issue Time to First Response"
   ]
  },
  {
   "cell_type": "code",
   "execution_count": null,
   "id": "6265b16b",
   "metadata": {
    "tags": []
   },
   "outputs": [],
   "source": [
    "from requests import request\n",
    "import json\n",
    "from pandas.io.json import json_normalize\n",
    "import pandas as pd\n",
    "import matplotlib.pyplot as plt\n",
    "from datetime import datetime\n",
    "from numpy import count_nonzero\n",
    "import seaborn as sns\n",
    "r=request(url='http://augur.chaoss.io/api/unstable/repos/25440/issues-closed-resolution-duration?period=month', method='get');\n",
    "e = r.json();\n",
    "df=pd.DataFrame(e);\n",
    "created= df['created_at'];\n",
    "df[['created_at','diffdate']];\n",
    "created = pd.to_datetime(df.created_at, format='%Y-%m-%d %H:%M:%S');\n",
    "fig, ax = plt.subplots(figsize = (15,6));\n",
    "fig = sns.barplot(x = \"created_at\", y = \"diffdate\", data = df ,ci = None, ax=ax);\n",
    "ax.set(xlabel=\"Month/year\", ylabel = \"closed duration (days)\", title = \"Time to First Response\");\n",
    "x_dates = created.dt.strftime('%Y-%m').sort_values().unique();\n",
    "ax.set_xticklabels(labels=x_dates, rotation=45, ha='right');\n",
    "\n",
    "\n",
    "\n"
   ]
  },
  {
   "cell_type": "markdown",
   "id": "dabe6170",
   "metadata": {},
   "source": [
    "## Community Culture"
   ]
  },
  {
   "cell_type": "markdown",
   "id": "1fb5515a",
   "metadata": {},
   "source": [
    "\n",
    "### Code of Conduct"
   ]
  },
  {
   "cell_type": "code",
   "execution_count": null,
   "id": "f7a84871",
   "metadata": {
    "tags": []
   },
   "outputs": [],
   "source": [
    "import psycopg2\n",
    "import pandas as pd \n",
    "import sqlalchemy as salc\n",
    "import numpy as np\n",
    "import seaborn as sns\n",
    "import matplotlib.pyplot as plt\n",
    "import warnings\n",
    "import datetime\n",
    "import json\n",
    "\n",
    "\n",
    "warnings.filterwarnings('ignore')\n",
    "\n",
    "with open(\"Config.json\") as config_file:\n",
    "    config = json.load(config_file)\n",
    "\n",
    "database_connection_string = 'postgresql+psycopg2://{}:{}@{}:{}/{}'.format(config['user'], config['password'], config['host'], config['port'], config['database'])\n",
    "\n",
    "dbschema='augur_data'\n",
    "engine = salc.create_engine(\n",
    "    database_connection_string,\n",
    "    connect_args={'options': '-csearch_path={}'.format(dbschema)})\n",
    "\n",
    "\n",
    "repolist = pd.DataFrame() \n",
    "coc = pd.DataFrame() \n",
    "coc_query = salc.sql.text(f\"\"\" select \n",
    "code_of_conduct_file , max(data_collection_date) as date from repo_info\n",
    "where repo_id = 25440\n",
    "group by code_of_conduct_file\n",
    "\"\"\")\n",
    "\n",
    "coc_data = pd.read_sql(coc_query, con=engine);\n",
    "coc_data.style.hide_index()"
   ]
  },
  {
   "cell_type": "markdown",
   "id": "ea179f86",
   "metadata": {},
   "source": [
    "### Inclusive Leadership"
   ]
  },
  {
   "cell_type": "markdown",
   "id": "5ff5fa9b",
   "metadata": {},
   "source": [
    "## Licensing"
   ]
  },
  {
   "cell_type": "markdown",
   "id": "613b2f24",
   "metadata": {},
   "source": [
    "### License Covered"
   ]
  },
  {
   "cell_type": "code",
   "execution_count": null,
   "id": "7fec5b2d",
   "metadata": {
    "tags": []
   },
   "outputs": [],
   "source": [
    "from termcolor import colored\n",
    "r = requests.get('http://augur.chaoss.io/api/unstable/repos/25440/license-coverage')\n",
    "r.json()\n",
    "data = r.json()\n",
    "df= pd.DataFrame(data)\n",
    "df.style.hide_index()"
   ]
  },
  {
   "cell_type": "markdown",
   "id": "e3472867",
   "metadata": {},
   "source": [
    "### License Count"
   ]
  },
  {
   "cell_type": "code",
   "execution_count": null,
   "id": "0f21f340",
   "metadata": {
    "tags": []
   },
   "outputs": [],
   "source": [
    "from termcolor import colored\n",
    "lcount = requests.get('http://augur.chaoss.io/api/unstable/repos/25440/license-count')\n",
    "lcount.json()\n",
    "df.style.hide_index()"
   ]
  },
  {
   "cell_type": "markdown",
   "id": "f10f824e",
   "metadata": {},
   "source": [
    "### Licenses Declared"
   ]
  },
  {
   "cell_type": "code",
   "execution_count": null,
   "id": "3758d475",
   "metadata": {
    "tags": []
   },
   "outputs": [],
   "source": [
    "from termcolor import colored\n",
    "import pandas as pd\n",
    "from pandas.io.json import json_normalize\n",
    "import seaborn as sns\n",
    "import matplotlib.pyplot as plt\n",
    "%matplotlib inline\n",
    "r = requests.get('http://augur.chaoss.io/api/unstable/repos/25430/license-declared')\n",
    "data = r.json()\n",
    "df= pd.DataFrame(data)\n",
    "df.style.hide_index()"
   ]
  },
  {
   "cell_type": "markdown",
   "id": "443d5fe3",
   "metadata": {},
   "source": [
    "## Stability"
   ]
  },
  {
   "cell_type": "markdown",
   "id": "186ba050",
   "metadata": {},
   "source": [
    "### CII Best Practices Badging Status"
   ]
  },
  {
   "cell_type": "code",
   "execution_count": null,
   "id": "6f30f85d",
   "metadata": {
    "tags": []
   },
   "outputs": [],
   "source": [
    "from termcolor import colored\n",
    "r = requests.get('http://augur.chaoss.io/api/unstable/repo-groups/10/repos/25440/cii-best-practices-badge')\n",
    "r.json()\n",
    "df.style.hide_index()"
   ]
  },
  {
   "cell_type": "markdown",
   "id": "2976742e",
   "metadata": {},
   "source": [
    "### Bus Factor"
   ]
  },
  {
   "cell_type": "code",
   "execution_count": null,
   "id": "4f6a4dff",
   "metadata": {
    "tags": []
   },
   "outputs": [],
   "source": [
    "from termcolor import colored\n",
    "from requests import request\n",
    "import json\n",
    "from pandas.io.json import json_normalize\n",
    "import pandas as pd\n",
    "import plotly.graph_objects as go\n",
    "import plotly.express as px\n",
    "r = requests.get('http://augur.chaoss.io/api/unstable/repos/25440/top-committers?year=2020&threshold=.8')\n",
    "data = r.json()\n",
    "df=pd.DataFrame(data)\n",
    "fig = px.pie(df, values='commits', names = 'email',title=\"Bus factor for the year 2021 <br>How high is the risk to a project should the most active people leave\")\n",
    "fig.show()\n"
   ]
  },
  {
   "cell_type": "markdown",
   "id": "815e6192",
   "metadata": {},
   "source": [
    "### Test Coverage"
   ]
  },
  {
   "cell_type": "code",
   "execution_count": null,
   "id": "84c6adf6",
   "metadata": {
    "tags": []
   },
   "outputs": [],
   "source": []
  },
  {
   "cell_type": "markdown",
   "id": "7ecfc58e",
   "metadata": {},
   "source": [
    "### Committers"
   ]
  },
  {
   "cell_type": "code",
   "execution_count": null,
   "id": "a81f98d0",
   "metadata": {
    "tags": []
   },
   "outputs": [],
   "source": [
    "from termcolor import colored\n",
    "r = requests.get('http://augur.chaoss.io/api/unstable/repos/25440/lines-changed-by-author')\n",
    "data = r.json()\n",
    "df= pd.DataFrame(data)\n",
    "# print(df)\n",
    "# df['additions'].nlargest(n=10)\n",
    "from pandas.api.types import is_numeric_dtype\n",
    "dfs = []\n",
    "for col in df.columns:\n",
    "    top_values = []\n",
    "    if is_numeric_dtype(df[col]):\n",
    "        top_values = df[col].nlargest(n=10)\n",
    "        dfs.append(pd.DataFrame({col: top_values}).reset_index(drop=True))\n",
    "pd.concat(dfs, axis=1)\n"
   ]
  },
  {
   "cell_type": "code",
   "execution_count": null,
   "id": "0858a982",
   "metadata": {
    "tags": []
   },
   "outputs": [],
   "source": [
    "import plotly.express as px\n",
    "r = requests.get('http://augur.chaoss.io/api/unstable/repos/25440/lines-changed-by-author')\n",
    "data = r.json()\n",
    "df= pd.DataFrame(data)\n",
    "# df = px.data.iris()\n",
    "\n",
    "sorted_df1 = df.sort_values([\"additions\"], ascending=False)\n",
    "fig1 = px.bar(sorted_df1.head(10), x=\"cmt_author_email\", y=\"additions\"\n",
    "                ,title=\"Highest Number of Lines Added by an Author\", color_discrete_sequence=[\"green\"])\n",
    "fig1.update_xaxes(title_text=\"Authors\")\n",
    "fig1.update_yaxes(title_text=\"Lines Added\")\n",
    "fig1.show()\n",
    "\n",
    "sorted_df2 = df.sort_values([\"deletions\"], ascending=False)\n",
    "fig2 = px.bar(sorted_df2.head(10), x=\"cmt_author_email\", y=\"deletions\"\n",
    "                ,title=\"Highest Number of Lines Deleted by an Author\",color_discrete_sequence=[\"red\"])\n",
    "fig2.update_xaxes(title_text=\"Authors\")\n",
    "fig2.update_yaxes(title_text=\"Lines Deleted\")\n",
    "fig2.show()\n",
    "\n",
    "sorted_df3 = df.sort_values([\"whitespace\"], ascending=False)\n",
    "fig3 = px.bar(sorted_df3.head(10), x=\"cmt_author_email\", y=\"whitespace\"\n",
    "                ,title=\"Highest Number of whitespace by an Author\", color_discrete_sequence=[\"goldenrod\"])\n",
    "fig3.update_xaxes(title_text=\"Authors\")\n",
    "fig3.update_yaxes(title_text=\"Lines whitespace\")\n",
    "fig3.show()\n",
    "\n"
   ]
  },
  {
   "cell_type": "markdown",
   "id": "edb35391",
   "metadata": {
    "id": "7oH9_szw51zC"
   },
   "source": [
    "## Code"
   ]
  },
  {
   "cell_type": "markdown",
   "id": "36aa7db2",
   "metadata": {},
   "source": [
    "### New Contributors\n"
   ]
  },
  {
   "cell_type": "code",
   "execution_count": null,
   "id": "03e4e689",
   "metadata": {
    "id": "9SGfGw4850W4",
    "tags": []
   },
   "outputs": [],
   "source": [
    "url = \"http://augur.chaoss.io/api/unstable/contributor_reports/new_contributors_stacked_bar/?repo_id=25440\"\n",
    "payload = \"\"\n",
    "querystring = {\n",
    "        \"api-version\":\"1.0\",\n",
    "        \"format\":\"png\",\n",
    "        \"layer\":\"basic\"\n",
    "    }\n",
    "headers = {\n",
    "    'cache-control': \"no-cache\"\n",
    "    }\n",
    "\n",
    "r = requests.get(url,data=payload, headers=headers, params=querystring, stream=all)\n",
    "\n",
    "display(Image(r.content))"
   ]
  },
  {
   "cell_type": "code",
   "execution_count": null,
   "id": "d3cd9daa",
   "metadata": {
    "tags": []
   },
   "outputs": [],
   "source": [
    "plt.style.use('seaborn')\n",
    "import plotly.express as px\n",
    "r = requests.get('http://augur.chaoss.io/api/unstable/repos/25440/contributors-new')\n",
    "data =r.json()\n",
    "\n",
    "df= pd.DataFrame(data)\n",
    "df1= pd.DataFrame(data)\n",
    "\n",
    "df['date'] = pd.DatetimeIndex(df['date']).year\n",
    "df1['date'] = pd.DatetimeIndex(df1['date']).month\n",
    "\n",
    "fig = px.bar(df, x= 'date', y = 'new_contributors',title= 'Number of New Contributors for each year'\n",
    "            ,color_discrete_sequence=[\"red\"])\n",
    "fig.update_xaxes(title_text=\"Year\")\n",
    "fig.update_yaxes(title_text=\"Number of new contributors\")\n",
    "fig.show()\n",
    "\n",
    "fig1 = px.bar(df1, x= 'date', y = 'new_contributors',title= 'New Contributors for each month',color_discrete_sequence=[\"purple\"])\n",
    "fig1.update_xaxes(title_text=\"Month\")\n",
    "fig1.update_yaxes(title_text=\"Number of new contributors\")\n",
    "fig1.show()"
   ]
  },
  {
   "cell_type": "markdown",
   "id": "bf70ac3d",
   "metadata": {},
   "source": [
    "### Change Request Acceptance Rates"
   ]
  },
  {
   "cell_type": "code",
   "execution_count": null,
   "id": "af045b6f",
   "metadata": {
    "id": "GpqlvrXy5xiL",
    "tags": []
   },
   "outputs": [],
   "source": [
    "url = \"http://augur.chaoss.io/api/unstable/pull_request_reports/PR_counts_by_merged_status?repo_id=25440\"\n",
    "payload = \"\"\n",
    "querystring = {\n",
    "        \"api-version\":\"1.0\",\n",
    "        \"format\":\"png\",\n",
    "        \"layer\":\"basic\"\n",
    "    }\n",
    "headers = {\n",
    "    'cache-control': \"no-cache\"\n",
    "    }\n",
    "\n",
    "r = requests.get(url,data=payload, headers=headers, params=querystring, stream=all)\n",
    "\n",
    "display(Image(r.content))"
   ]
  },
  {
   "cell_type": "code",
   "execution_count": null,
   "id": "8667c53c",
   "metadata": {
    "tags": []
   },
   "outputs": [],
   "source": [
    "plt.style.use('seaborn')\n",
    "import plotly.express as px\n",
    "r=request(url='http://augur.chaoss.io/api/unstable/repos/25440/pull-request-acceptance-rate', method='get')\n",
    "e = r.json()\n",
    "df=pd.DataFrame(e)\n",
    "fig = px.line(df, x='date', y = 'rate',title=\"Pull-request-acceptance-rate\")\n",
    "fig.update_xaxes(title_text=\"date\")\n",
    "fig.update_yaxes(title_text=\"Number of pull-request-acceptance-rate\")"
   ]
  },
  {
   "cell_type": "code",
   "execution_count": null,
   "id": "48f89b15",
   "metadata": {
    "id": "q0gMAnrf5UP_",
    "tags": []
   },
   "outputs": [],
   "source": []
  },
  {
   "cell_type": "code",
   "execution_count": null,
   "id": "be125536",
   "metadata": {
    "id": "eZCdvJ9w98pi",
    "tags": []
   },
   "outputs": [],
   "source": []
  }
 ],
 "metadata": {
  "colab": {
   "collapsed_sections": [],
   "name": "Analysis.ipynb",
   "provenance": []
  },
  "kernelspec": {
   "display_name": "Python 3",
   "language": "python",
   "name": "python3"
  },
  "language_info": {
   "codemirror_mode": {
    "name": "ipython",
    "version": 3
   },
   "file_extension": ".py",
   "mimetype": "text/x-python",
   "name": "python",
   "nbconvert_exporter": "python",
   "pygments_lexer": "ipython3",
   "version": "3.9.10"
  }
 },
 "nbformat": 4,
 "nbformat_minor": 5
}
